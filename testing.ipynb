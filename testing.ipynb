{
 "cells": [
  {
   "cell_type": "code",
   "execution_count": 1,
   "metadata": {},
   "outputs": [],
   "source": [
    "# Experimenting with tensorflow.org/get_started/eager\n",
    "\n",
    "# TODO:\n",
    "# Is defining input_shape necessary? The results (loss over time, accuracy over time) seem very similar\n",
    "# Compare the efficacy of a few different models"
   ]
  },
  {
   "cell_type": "code",
   "execution_count": 2,
   "metadata": {},
   "outputs": [
    {
     "name": "stderr",
     "output_type": "stream",
     "text": [
      "/Users/sam/anaconda3/lib/python3.6/site-packages/h5py/__init__.py:34: FutureWarning: Conversion of the second argument of issubdtype from `float` to `np.floating` is deprecated. In future, it will be treated as `np.float64 == np.dtype(float).type`.\n",
      "  from ._conv import register_converters as _register_converters\n"
     ]
    },
    {
     "name": "stdout",
     "output_type": "stream",
     "text": [
      "TensorFlow version: 1.8.0\n",
      "Eager execution: True\n"
     ]
    }
   ],
   "source": [
    "# Imports\n",
    "import matplotlib.pyplot\n",
    "import numpy\n",
    "import pandas\n",
    "import sklearn.ensemble\n",
    "import sklearn.linear_model\n",
    "import sklearn.naive_bayes\n",
    "import sklearn.neighbors\n",
    "import sklearn.neural_network\n",
    "import sklearn.preprocessing\n",
    "import sklearn.svm\n",
    "import sklearn.tree\n",
    "import tensorflow\n",
    "\n",
    "# TF & Eager\n",
    "tensorflow.enable_eager_execution()\n",
    "print(\"TensorFlow version: {}\".format(tensorflow.VERSION))\n",
    "print(\"Eager execution: {}\".format(tensorflow.executing_eagerly()))"
   ]
  },
  {
   "cell_type": "code",
   "execution_count": 3,
   "metadata": {},
   "outputs": [],
   "source": [
    "# Read in data\n",
    "train_data_url = 'http://download.tensorflow.org/data/iris_training.csv'\n",
    "train_data_raw = pandas.read_csv(train_data_url)\n",
    "train_data_raw.columns = ['petal_length', 'petal_width',\n",
    "                          'sepal_length', 'sepal_width',\n",
    "                          'class']"
   ]
  },
  {
   "cell_type": "code",
   "execution_count": 4,
   "metadata": {},
   "outputs": [],
   "source": [
    "# Convert types from double to float\n",
    "# (\"Cannot compute MatMul as input #0 was expected to be a float tensor but is a double tensor\")\n",
    "# (tf.keras.Sequential: \"dtype defaults to self.dtype or float32.\")\n",
    "train_data_raw.iloc[:, :-1] = train_data_raw.iloc[:, :-1].astype(numpy.float32)"
   ]
  },
  {
   "cell_type": "code",
   "execution_count": 5,
   "metadata": {},
   "outputs": [],
   "source": [
    "# Build Dataset\n",
    "features_raw = train_data_raw.iloc[:, :-1].as_matrix()\n",
    "labels_raw   = train_data_raw.iloc[:,  -1].as_matrix()\n",
    "train_data = tensorflow.data.Dataset.from_tensor_slices((features_raw, labels_raw))\n",
    "\n",
    "# Randomize & batch\n",
    "train_data = train_data.shuffle(buffer_size=1000)\n",
    "train_data = train_data.batch(30)   # Four batches of 30 samples"
   ]
  },
  {
   "cell_type": "code",
   "execution_count": 6,
   "metadata": {},
   "outputs": [],
   "source": [
    "# Define model architecture with two hidden layers\n",
    "model = tensorflow.keras.Sequential([\n",
    "    # The documentation says that input_shape is required\n",
    "    tensorflow.keras.layers.Dense(units=10, activation='relu', input_shape=(4,)),\n",
    "    \n",
    "    # Fully-connected hidden layer\n",
    "    tensorflow.keras.layers.Dense(units=10, activation='relu'),\n",
    "    \n",
    "    # Output one of the three classes [0, 1, 2]    \n",
    "    tensorflow.keras.layers.Dense(units=3)\n",
    "])\n",
    "\n",
    "# Define loss function; use cross-entropy loss / log loss\n",
    "def loss(model, x, y):\n",
    "    \"\"\" x = features; y = y_true; y_ = y_pred \"\"\"\n",
    "    y_ = model(x)\n",
    "    return tensorflow.losses.sparse_softmax_cross_entropy(labels=y, logits=y_)\n",
    "\n",
    "# Define gradient\n",
    "def grad(model, inputs, targets):\n",
    "    with tensorflow.GradientTape() as tape:\n",
    "        loss_value = loss(model, inputs, targets)\n",
    "    return tape.gradient(loss_value, model.variables)\n",
    "\n",
    "# Define optimization; use stochastic gradient descent\n",
    "optimizer = tensorflow.train.GradientDescentOptimizer(learning_rate=0.01)"
   ]
  },
  {
   "cell_type": "code",
   "execution_count": 7,
   "metadata": {},
   "outputs": [
    {
     "name": "stdout",
     "output_type": "stream",
     "text": [
      "Epoch 000: Loss: 1.305, Accuracy: 30.000%\n",
      "Epoch 050: Loss: 0.951, Accuracy: 70.000%\n",
      "Epoch 100: Loss: 0.454, Accuracy: 84.167%\n",
      "Epoch 150: Loss: 0.287, Accuracy: 93.333%\n",
      "Epoch 200: Loss: 0.196, Accuracy: 96.667%\n",
      "Epoch 250: Loss: 0.146, Accuracy: 97.500%\n"
     ]
    }
   ],
   "source": [
    "# Keep results for plotting\n",
    "train_loss_results = []\n",
    "train_accuracy_results = []\n",
    "num_epochs = 251\n",
    "\n",
    "# Iterate epochs\n",
    "for epoch in range(num_epochs):\n",
    "    epoch_mean_loss = tensorflow.contrib.eager.metrics.Mean()\n",
    "    epoch_accuracy  = tensorflow.contrib.eager.metrics.Accuracy()\n",
    "     \n",
    "    # Train across batches\n",
    "    for x, y in train_data:\n",
    "        # Calculate gradient & optimize\n",
    "        grads = grad(model, x, y)\n",
    "        optimizer.apply_gradients(zip(grads, model.variables),\n",
    "                                  global_step=tensorflow.train.get_or_create_global_step())\n",
    "    \n",
    "        # Calculate current batch loss\n",
    "        epoch_mean_loss(loss(model, x, y))\n",
    "        # Get largest probability & compare predicted label to actual label\n",
    "        epoch_accuracy(tensorflow.argmax(model(x), axis=1), y)\n",
    "\n",
    "    # End epoch\n",
    "    train_loss_results.append(epoch_mean_loss.result())\n",
    "    train_accuracy_results.append(epoch_accuracy.result())\n",
    "    if epoch % 50 == 0:\n",
    "        print(\"Epoch {:03d}: Loss: {:.3f}, Accuracy: {:.3%}\".format(epoch,\n",
    "                                                                    epoch_mean_loss.result(),\n",
    "                                                                    epoch_accuracy.result()))"
   ]
  },
  {
   "cell_type": "code",
   "execution_count": 8,
   "metadata": {},
   "outputs": [
    {
     "data": {
      "image/png": "[encoded data removed]",
      "text/plain": [
       "<matplotlib.figure.Figure at 0x124d3aa58>"
      ]
     },
     "metadata": {},
     "output_type": "display_data"
    }
   ],
   "source": [
    "# Plot statistics\n",
    "fig, axes = matplotlib.pyplot.subplots(2, sharex=True, figsize=(12, 8))\n",
    "axes[0].set_ylabel('Loss', fontsize=14)\n",
    "axes[0].plot(train_loss_results)\n",
    "axes[1].set_ylabel('Accuracy', fontsize=14)\n",
    "axes[1].set_xlabel('Epoch', fontsize=14)\n",
    "axes[1].plot(train_accuracy_results)\n",
    "matplotlib.pyplot.show()"
   ]
  },
  {
   "cell_type": "code",
   "execution_count": 9,
   "metadata": {},
   "outputs": [],
   "source": [
    "random_state = 0\n",
    "models = {\n",
    "     'RandomForest_1' : sklearn.ensemble.RandomForestRegressor()\n",
    "    ,'NaiveBayes'     : sklearn.naive_bayes.GaussianNB()\n",
    "    ,'Logistic'       : sklearn.linear_model.LogisticRegression()\n",
    "    ,'KNC_1'          : sklearn.neighbors.KNeighborsClassifier()\n",
    "    ,'MLP_1'          : sklearn.neural_network.MLPClassifier(hidden_layer_sizes=(10,10),\n",
    "                                                             max_iter=250)\n",
    "    ,'SVR'            : sklearn.svm.SVC()\n",
    "    ,'DecisionTree'   : sklearn.tree.DecisionTreeClassifier()\n",
    "}\n",
    "train_accuracies = {\n",
    "    'TF' : train_accuracy_results[-1].numpy()\n",
    "}"
   ]
  },
  {
   "cell_type": "code",
   "execution_count": 10,
   "metadata": {},
   "outputs": [
    {
     "name": "stdout",
     "output_type": "stream",
     "text": [
      "RandomForest_1\n",
      "NaiveBayes\n",
      "Logistic\n",
      "KNC_1\n",
      "MLP_1\n",
      "SVR\n",
      "DecisionTree\n"
     ]
    },
    {
     "name": "stderr",
     "output_type": "stream",
     "text": [
      "/Users/sam/anaconda3/lib/python3.6/site-packages/sklearn/neural_network/multilayer_perceptron.py:564: ConvergenceWarning: Stochastic Optimizer: Maximum iterations (250) reached and the optimization hasn't converged yet.\n",
      "  % self.max_iter, ConvergenceWarning)\n"
     ]
    }
   ],
   "source": [
    "for model_name in models.keys():\n",
    "    print(model_name)\n",
    "    model = models[model_name]\n",
    "    model = model.fit(features_raw, labels_raw)\n",
    "    predictions = model.predict(features_raw)\n",
    "    predictions = pandas.DataFrame(list(zip(predictions, labels_raw)), columns=['y_pred', 'y_true'])\n",
    "    predictions['hit'] = predictions.apply(lambda x: 1 if x['y_pred'] == x['y_true'] else 0, axis=1)\n",
    "    train_accuracy = predictions['hit'].mean()\n",
    "    train_accuracies[model_name] = train_accuracy"
   ]
  },
  {
   "cell_type": "code",
   "execution_count": 11,
   "metadata": {},
   "outputs": [
    {
     "data": {
      "image/png": "[encoded data removed]",
      "text/plain": [
       "<matplotlib.figure.Figure at 0x124d161d0>"
      ]
     },
     "metadata": {},
     "output_type": "display_data"
    }
   ],
   "source": [
    "train_accuracies = pandas.Series(train_accuracies).sort_values(ascending=False)\n",
    "train_accuracies.plot.bar(color='steelblue')\n",
    "matplotlib.pyplot.show()"
   ]
  },
  {
   "cell_type": "code",
   "execution_count": null,
   "metadata": {},
   "outputs": [],
   "source": []
  }
 ],
 "metadata": {
  "kernelspec": {
   "display_name": "Python 3",
   "language": "python",
   "name": "python3"
  },
  "language_info": {
   "codemirror_mode": {
    "name": "ipython",
    "version": 3
   },
   "file_extension": ".py",
   "mimetype": "text/x-python",
   "name": "python",
   "nbconvert_exporter": "python",
   "pygments_lexer": "ipython3",
   "version": "3.6.5"
  },
  "toc": {
   "nav_menu": {},
   "number_sections": false,
   "sideBar": true,
   "skip_h1_title": false,
   "title_cell": "Table of Contents",
   "title_sidebar": "Contents",
   "toc_cell": false,
   "toc_position": {},
   "toc_section_display": true,
   "toc_window_display": false
  }
 },
 "nbformat": 4,
 "nbformat_minor": 2
}
